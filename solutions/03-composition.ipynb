{
 "cells": [
  {
   "cell_type": "markdown",
   "metadata": {},
   "source": [
    "__Using Composition, design a Developer class.__"
   ]
  },
  {
   "cell_type": "code",
   "execution_count": null,
   "metadata": {},
   "outputs": [],
   "source": [
    "class Address:\n",
    "    def __init__(self, street, city, state, zipcode):\n",
    "        self.street = street\n",
    "        self.city = city\n",
    "        self.state = state\n",
    "        self.zipcode = zipcode\n",
    "\n",
    "    def __str__(self):\n",
    "        lines = [self.street]\n",
    "        lines.append(f'{self.city}, {self.state} {self.zipcode}')\n",
    "        return '\\n'.join(lines)\n",
    "\n",
    "\n",
    "address1 = Address('Van Marwijk Kooystraat 15', 'Amsterdam', 'North-Holland', '1114 AG')\n",
    "address2 = Address('Kalverstraat 71', 'Amsterdam', 'North-Holland', '1012 NZ')\n",
    "address3 = Address('Sint Willibrordusstraat 62A', 'Amsterdam', 'North-Holland', '1073 VD')\n",
    "address4 = Address('Spui 12', 'Amsterdam', 'North-Holland', '1012 XA')\n",
    "\n",
    "# print(address2)"
   ]
  },
  {
   "cell_type": "code",
   "execution_count": null,
   "metadata": {},
   "outputs": [],
   "source": [
    "class Manager:\n",
    "    raise_amt = 1.11\n",
    "    \n",
    "    def __init__(self, name, pay, dept, address=None):\n",
    "        self.name = name\n",
    "        self.pay = pay\n",
    "        self.dept = dept\n",
    "        self.address = address\n",
    "        \n",
    "    def __str__(self):\n",
    "        lines = [f'Name: {self.name}']\n",
    "        lines.append(f'Address: {self.address}')\n",
    "        lines.append(f'Pay: {self.pay}')\n",
    "        lines.append(f'Department: {self.dept}')\n",
    "        return '\\n'.join(lines)\n",
    "            \n",
    "            \n",
    "manager1 = Manager(\"Samantha Joseph\", 102000, \"Customer Service\")\n",
    "manager2 = Manager(\"Albert Heijn\", 120000, \"Happiness\")\n",
    "\n",
    "manager1.address = address1\n",
    "manager2.address = address2\n",
    "# print(manager1)"
   ]
  },
  {
   "cell_type": "code",
   "execution_count": null,
   "metadata": {},
   "outputs": [],
   "source": [
    "class Developer:\n",
    "    raise_amt = 1.08\n",
    "    \n",
    "    def __init__(self, id_, name, pay, dept, manager=None):\n",
    "        self.id_ = id_\n",
    "        self.name = name\n",
    "        self.dept = dept\n",
    "        self.manager = None\n",
    "        self.address = None\n",
    "            \n",
    "    def assign_manager(self, manager):\n",
    "        if self.dept == manager.dept:\n",
    "            self.manager = manager.name\n",
    "            return self.manager\n",
    "        else:\n",
    "            return f\"This manager, {manager.name}, can't manage developer {self.name}. Check for a manager in {self.dept}.\"\n",
    "        \n",
    "    def __str__(self):\n",
    "        text = f\"{self.name} is in the {self.dept} department\"\n",
    "        if self.manager == None:\n",
    "            return f\"{text}, and hasn't been assigned a manager yet.\"\n",
    "        return f\"{text}, and is managed by {self.manager}.\"\n",
    "            \n",
    "developer1 = Developer(1, \"Jane Doe\", 95000, \"Customer Service\")\n",
    "developer1.assign_manager(manager1)\n",
    "# print(developer1)"
   ]
  },
  {
   "cell_type": "code",
   "execution_count": null,
   "metadata": {},
   "outputs": [],
   "source": []
  }
 ],
 "metadata": {
  "kernelspec": {
   "display_name": "Python 3",
   "language": "python",
   "name": "python3"
  },
  "language_info": {
   "codemirror_mode": {
    "name": "ipython",
    "version": 3
   },
   "file_extension": ".py",
   "mimetype": "text/x-python",
   "name": "python",
   "nbconvert_exporter": "python",
   "pygments_lexer": "ipython3",
   "version": "3.7.4"
  }
 },
 "nbformat": 4,
 "nbformat_minor": 2
}
