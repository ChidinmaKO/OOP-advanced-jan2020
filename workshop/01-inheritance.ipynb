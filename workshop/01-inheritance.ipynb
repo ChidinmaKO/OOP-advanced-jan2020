{
 "cells": [
  {
   "cell_type": "markdown",
   "metadata": {},
   "source": [
    "## Inheritance"
   ]
  },
  {
   "cell_type": "markdown",
   "metadata": {},
   "source": [
    "### What is Inheritance?\n",
    "\n",
    "The basic idea of inheritance in object-oriented programming is that a class can be created which can inherit the attributes and methods of another class. The class which inherits another class is called the **child class or derived class**, and the class which is inherited by another class is called **parent or base class**.\n",
    "\n",
    "This means that inheritance supports code reusability."
   ]
  },
  {
   "cell_type": "markdown",
   "metadata": {},
   "source": [
    "### Objectives\n",
    "\n",
    "- Refresh our knowledge of inheritance and its advantages.\n",
    "- Understand the us of `super` keyword.\n",
    "- Introduce us to basic typing annotations.\n",
    "- Know the differences between `issubclass`, `isinstance` and `type`."
   ]
  },
  {
   "cell_type": "markdown",
   "metadata": {},
   "source": [
    "![inheritance image](../images/vehicles_classification.png \"inheritance\")\n",
    "<small>Photo credit: https://www.python-course.eu/</small>"
   ]
  },
  {
   "cell_type": "code",
   "execution_count": null,
   "metadata": {},
   "outputs": [],
   "source": [
    "from typing import List"
   ]
  },
  {
   "cell_type": "code",
   "execution_count": null,
   "metadata": {},
   "outputs": [],
   "source": [
    "class Employee:\n",
    "    \n",
    "    raise_amt = 1.04 \n",
    "    \n",
    "    def __init__(self, first: str, last:str, pay:int):\n",
    "        self.first = first\n",
    "        self.last = last\n",
    "        self.pay = pay\n",
    "        self.email = first + '.' + last + '@company.com'\n",
    "\n",
    "    def __repr__(self)-> str:\n",
    "        return f\"{self.__class__.__name__}({self.first}, {self.last}, {self.pay})\"\n",
    "\n",
    "    def __str__(self)-> str:\n",
    "        return f\"{self.__class__.__name__} {self.first} {self.last} makes €{self.pay}\"\n",
    "\n",
    "    def fullname(self)-> str:\n",
    "        return f\"{self.first} {self.last}\"\n",
    "\n",
    "    def apply_raise(self)-> float:\n",
    "        return self.pay * self.raise_amt\n",
    "    \n",
    "    @classmethod\n",
    "    def set_raise_amt(cls, amount):\n",
    "        cls.raise_amt = amount\n",
    "\n",
    "    @staticmethod\n",
    "    def is_weekday(day):\n",
    "        if day.weekday() == 5 or day.weekday() == 6:\n",
    "            return False\n",
    "        return True"
   ]
  },
  {
   "cell_type": "code",
   "execution_count": null,
   "metadata": {},
   "outputs": [],
   "source": [
    "emp1 = Employee('Chidinma', 'Kalu', 80000)\n",
    "emp1"
   ]
  },
  {
   "cell_type": "code",
   "execution_count": null,
   "metadata": {},
   "outputs": [],
   "source": [
    "# read csv file of employees"
   ]
  },
  {
   "cell_type": "markdown",
   "metadata": {},
   "source": [
    "__Note That__: In OOP, Inheritance signifies an *IS-A* relation.\n",
    "\n",
    "For Example: \n",
    "- A manager is an Employee, \n",
    "- A dog is an Animal,\n",
    "- A Car is a Vehicle."
   ]
  },
  {
   "cell_type": "code",
   "execution_count": null,
   "metadata": {},
   "outputs": [],
   "source": [
    "# Manager Class inherits from Employee\n",
    "class Manager(Employee):\n",
    "    raise_amt = 1.11\n",
    "    \n",
    "    def __init__(self, first: str, last:str, pay:int, dept:str, employees:List[str]=None):\n",
    "        super().__init__(first, last, pay)\n",
    "        self.dept = dept\n",
    "        self.employees = list(employees) if employees else []\n",
    "    \n",
    "    def add_emps(self, emp:str)-> List[str]:\n",
    "        if emp not in self.employees:\n",
    "            self.employees.append(emp)\n",
    "        return self.employees\n",
    "\n",
    "    def remove_emps(self, emp:str)-> List[str]:\n",
    "        if emp in self.employees:\n",
    "            self.employees.remove(emp)\n",
    "        return self.employees\n",
    "\n",
    "    def print_emps(self)-> str:\n",
    "        for emp in self.employees:\n",
    "            print('--->', emp)"
   ]
  },
  {
   "cell_type": "code",
   "execution_count": null,
   "metadata": {},
   "outputs": [],
   "source": [
    "# read manager file\n",
    "marketing_team = ['Sue', 'Tina', 'James', 'Diana', 'Pat', 'John']\n",
    "man1 = Manager(\"Jane\", \"Doe\", 94000, \"Marketing\", marketing_team)\n",
    "man1"
   ]
  },
  {
   "cell_type": "code",
   "execution_count": null,
   "metadata": {
    "scrolled": true
   },
   "outputs": [],
   "source": [
    "man1.remove_emps(\"Tina\")"
   ]
  },
  {
   "cell_type": "markdown",
   "metadata": {},
   "source": [
    "### Overwriting\n",
    "If a function is overwritten, the original function will be gone. The function will be redefined. This process has nothing to do with object orientation or inheritance."
   ]
  },
  {
   "cell_type": "code",
   "execution_count": null,
   "metadata": {},
   "outputs": [],
   "source": [
    "def func(x):\n",
    "    return x + 2\n",
    "\n",
    "print(f\"First function: {func(3)}\")\n",
    "\n",
    "\n",
    "# f will be overwritten (or redefined) in the following:\n",
    "def func(x):\n",
    "    return x + 8\n",
    "print(f\"Second function: {func(3)}\")"
   ]
  },
  {
   "cell_type": "markdown",
   "metadata": {},
   "source": [
    "### Overloading\n",
    "\n",
    "This refers to the ability to define a function with the same name multiple times and seeing different results depending on the number or types of the parameters."
   ]
  },
  {
   "cell_type": "code",
   "execution_count": null,
   "metadata": {},
   "outputs": [],
   "source": [
    "def start(a, b=None):\n",
    "    if b is not None:\n",
    "        return a + b\n",
    "    else:\n",
    "        return a\n",
    "    \n",
    "print(start(a=2))\n",
    "print(start(a=2, b=10))"
   ]
  },
  {
   "cell_type": "markdown",
   "metadata": {},
   "source": [
    "__The * operator can be used as a more general approach for a family of functions with 1, 2, 3 or even more parameters__"
   ]
  },
  {
   "cell_type": "code",
   "execution_count": null,
   "metadata": {
    "scrolled": true
   },
   "outputs": [],
   "source": [
    "def start(*a):\n",
    "    if len(a) == 1:\n",
    "        return a[0]\n",
    "    elif len(a) == 2:\n",
    "        return a[0] + a[1]\n",
    "    else:\n",
    "        return a[0] + a[1] + a[2]\n",
    "    \n",
    "print(start(2))\n",
    "print(start(2, 10))\n",
    "print(start(2, 10, 13))"
   ]
  },
  {
   "cell_type": "markdown",
   "metadata": {},
   "source": [
    "### Overriding\n",
    "\n",
    "Overriding refers to having a method with the same name in the child class as in the parent class. The definition of the method differs in parent and child classes but the name remains the same.\n",
    "\n",
    "Overriding means that the first definition will not be available anymore."
   ]
  },
  {
   "cell_type": "code",
   "execution_count": null,
   "metadata": {
    "scrolled": true
   },
   "outputs": [],
   "source": [
    "def func(n):\n",
    "    return n + 10\n",
    " \n",
    "def func(n,m):\n",
    "    return n + m + 10\n",
    "\n",
    "print(func(3, 4))\n",
    "print(func(2)) #This will throw an error."
   ]
  },
  {
   "cell_type": "code",
   "execution_count": null,
   "metadata": {},
   "outputs": [],
   "source": [
    "class Vehicle:\n",
    "    def print_details(self):\n",
    "        print(\"This is parent Vehicle class method\")\n",
    "\n",
    "class Car(Vehicle):\n",
    "    def print_details(self):\n",
    "        print(\"This is child Car class method\")\n",
    "\n",
    "class Bike(Vehicle):\n",
    "    def print_details(self):\n",
    "        print(\"This is child Bike class method\")\n",
    "        "
   ]
  },
  {
   "cell_type": "code",
   "execution_count": null,
   "metadata": {},
   "outputs": [],
   "source": [
    "car1 = Vehicle()\n",
    "car1.print_details()\n",
    "\n",
    "car2 = Car()\n",
    "car2.print_details()\n",
    "\n",
    "car3 = Bike()\n",
    "car3.print_details()"
   ]
  },
  {
   "cell_type": "markdown",
   "metadata": {},
   "source": [
    "### Difference between `issubclass` and `isinstance`?\n",
    "\n",
    "* __issubclass__ is used to check if a class is a subclass of another class.\n",
    "* __isinstance__ is used to check if a "
   ]
  },
  {
   "cell_type": "code",
   "execution_count": null,
   "metadata": {},
   "outputs": [],
   "source": [
    "# issubclass\n",
    "issubclass(Manager, Employee)"
   ]
  },
  {
   "cell_type": "code",
   "execution_count": null,
   "metadata": {},
   "outputs": [],
   "source": [
    "# issubclass\n",
    "issubclass(Employee, Manager)"
   ]
  },
  {
   "cell_type": "code",
   "execution_count": null,
   "metadata": {},
   "outputs": [],
   "source": [
    "# isinstance\n",
    "isinstance(man1, Employee)"
   ]
  },
  {
   "cell_type": "code",
   "execution_count": null,
   "metadata": {},
   "outputs": [],
   "source": [
    "# isinstance\n",
    "isinstance(man1, Employee)"
   ]
  },
  {
   "cell_type": "markdown",
   "metadata": {},
   "source": [
    "### Difference between `isinstance` and `type`?\n",
    "\n",
    "We see that `isinstance` returns True if we compare an object either with the class it belongs to or with the superclass. Whereas the equality operator only returns True, if we compare an object with its own class.\n",
    "\n",
    "People make the mistake of using `type()` where `isinstance()` would have been more appropriate."
   ]
  },
  {
   "cell_type": "code",
   "execution_count": null,
   "metadata": {},
   "outputs": [],
   "source": [
    "print(isinstance(emp1, Employee), isinstance(man1, Employee))\n",
    "print(isinstance(emp1, Manager))\n",
    "print(isinstance(man1, Manager))"
   ]
  },
  {
   "cell_type": "code",
   "execution_count": null,
   "metadata": {},
   "outputs": [],
   "source": [
    "print(type(man1) == Employee, type(man1) == Manager)"
   ]
  },
  {
   "cell_type": "markdown",
   "metadata": {},
   "source": [
    "#### => Create a `Developer` subclass which inherits from the `Employee` parent class.\n",
    "- Programming Language(s)"
   ]
  },
  {
   "cell_type": "markdown",
   "metadata": {},
   "source": [
    "### Takeaways"
   ]
  }
 ],
 "metadata": {
  "kernelspec": {
   "display_name": "Python 3",
   "language": "python",
   "name": "python3"
  },
  "language_info": {
   "codemirror_mode": {
    "name": "ipython",
    "version": 3
   },
   "file_extension": ".py",
   "mimetype": "text/x-python",
   "name": "python",
   "nbconvert_exporter": "python",
   "pygments_lexer": "ipython3",
   "version": "3.7.4"
  }
 },
 "nbformat": 4,
 "nbformat_minor": 2
}
