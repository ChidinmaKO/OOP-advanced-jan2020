{
 "cells": [
  {
   "cell_type": "markdown",
   "metadata": {},
   "source": [
    "#### * Understanding MRO\n",
    "\n",
    "Implement the following class structure: \n",
    "\n",
    "`print(Child.__mro__):`\n",
    "\n",
    "`\n",
    "(<class '__main__.Child'>,\n",
    " <class '__main__.Father'>,\n",
    " <class '__main__.Mother'>,\n",
    " <class '__main__.Person'>,\n",
    " <class 'object'>)\n",
    "`\n",
    "\n",
    "**Expected output:**\n",
    "```\n",
    "I am a person\n",
    "I am a person and cool daddy\n",
    "I am a person and awesome mom\n",
    "I am the coolest kid\n",
    "```"
   ]
  },
  {
   "cell_type": "code",
   "execution_count": null,
   "metadata": {},
   "outputs": [],
   "source": [
    "class Person:\n",
    "    def __str__(self):\n",
    "        return f\"I am a person\"\n",
    "\n",
    "class Father(Person):\n",
    "    def __str__(self):\n",
    "        return f\"{super().__str__()} and cool daddy\" \n",
    "\n",
    "class Mother(Person):\n",
    "    def __str__(self):\n",
    "        return f\"{super().__str__()} and awesome mom\"\n",
    "\n",
    "class Child(Father, Mother):\n",
    "    def __str__(self):\n",
    "        return f\"I am the coolest kid\""
   ]
  },
  {
   "cell_type": "code",
   "execution_count": null,
   "metadata": {},
   "outputs": [],
   "source": [
    "Child.__mro__"
   ]
  },
  {
   "cell_type": "code",
   "execution_count": null,
   "metadata": {
    "scrolled": true
   },
   "outputs": [],
   "source": [
    "person = Person()\n",
    "dad = Father()\n",
    "mom = Mother()\n",
    "child = Child()\n",
    "\n",
    "print(person)\n",
    "print(dad)\n",
    "print(mom)\n",
    "print(child)"
   ]
  }
 ],
 "metadata": {
  "kernelspec": {
   "display_name": "Python 3",
   "language": "python",
   "name": "python3"
  },
  "language_info": {
   "codemirror_mode": {
    "name": "ipython",
    "version": 3
   },
   "file_extension": ".py",
   "mimetype": "text/x-python",
   "name": "python",
   "nbconvert_exporter": "python",
   "pygments_lexer": "ipython3",
   "version": "3.7.4"
  }
 },
 "nbformat": 4,
 "nbformat_minor": 2
}
