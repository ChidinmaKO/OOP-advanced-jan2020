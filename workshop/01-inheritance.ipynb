{
 "cells": [
  {
   "cell_type": "markdown",
   "metadata": {},
   "source": [
    "## Inheritance"
   ]
  },
  {
   "cell_type": "markdown",
   "metadata": {},
   "source": [
    "### What is Inheritance?\n",
    "\n",
    "The basic idea of inheritance in object-oriented programming is that a class can be created which can inherit the attributes and methods of another class. The class which inherits another class is called the **child class or derived class**, and the class which is inherited by another class is called **parent or base class**.\n",
    "\n",
    "This means that inheritance supports code reusability."
   ]
  },
  {
   "cell_type": "code",
   "execution_count": null,
   "metadata": {},
   "outputs": [],
   "source": [
    "from typing import List"
   ]
  },
  {
   "cell_type": "code",
   "execution_count": null,
   "metadata": {},
   "outputs": [],
   "source": [
    "class Employee:\n",
    "    \n",
    "    raise_amt = 1.04 \n",
    "    \n",
    "    def __init__(self, first: str, last:str, pay:int):\n",
    "        self.first = first\n",
    "        self.last = last\n",
    "        self.pay = pay\n",
    "        self.email = first + '.' + last + '@company.com'\n",
    "\n",
    "    def __repr__(self)-> str:\n",
    "        return f\"<{self.first}, {self.last}, {self.pay}>\"\n",
    "\n",
    "    def __str__(self)-> str:\n",
    "        return f\"Employee {self.first} {self.last} makes €{self.pay}\"\n",
    "\n",
    "    def fullname(self)-> str:\n",
    "        return f\"{self.first} {self.last}\"\n",
    "\n",
    "    def apply_raise(self)-> float:\n",
    "        return self.pay * self.raise_amt\n",
    "    \n",
    "    @classmethod\n",
    "    def set_raise_amt(cls, amount):\n",
    "        cls.raise_amt = amount\n",
    "\n",
    "    @staticmethod\n",
    "    def is_weekday(day):\n",
    "        if day.weekday() == 5 or day.weekday() == 6:\n",
    "            return False\n",
    "        return True"
   ]
  },
  {
   "cell_type": "code",
   "execution_count": null,
   "metadata": {},
   "outputs": [],
   "source": [
    "# read a csv file of employees"
   ]
  },
  {
   "cell_type": "code",
   "execution_count": null,
   "metadata": {},
   "outputs": [],
   "source": [
    "class Manager(Employee):\n",
    "    raise_amt = 1.11\n",
    "    \n",
    "    def __init__(self, first: str, last:str, pay:int, dept:str, employees:List[str]=None):\n",
    "        super().__init__(first, last, pay)\n",
    "        self.dept = dept\n",
    "        if employees == None:\n",
    "            self.employees = []\n",
    "        else:\n",
    "            self.employees = list(employees)\n",
    "    \n",
    "    def add_emps(self, emp:str)-> List[str]:\n",
    "        if emp not in self.employees:\n",
    "            self.employees.append(emp)\n",
    "        return self.employees\n",
    "\n",
    "    def remove_emps(self, emp:str)-> List[str]:\n",
    "        if emp in self.employees:\n",
    "            self.employees.remove(emp)\n",
    "        return self.employees\n",
    "\n",
    "    def print_emps(self)-> str:\n",
    "        for emp in self.employees:\n",
    "            print('--->', emp)"
   ]
  },
  {
   "cell_type": "markdown",
   "metadata": {},
   "source": [
    "#### => Create a `Developer` subclass which inherits from the `Employee` parent class.\n",
    "- Programming Language\n",
    "- "
   ]
  },
  {
   "cell_type": "markdown",
   "metadata": {},
   "source": [
    "## Multiple Inheritance"
   ]
  },
  {
   "cell_type": "markdown",
   "metadata": {},
   "source": [
    "### What is Multiple Inheritance?"
   ]
  },
  {
   "cell_type": "code",
   "execution_count": null,
   "metadata": {},
   "outputs": [],
   "source": []
  }
 ],
 "metadata": {
  "kernelspec": {
   "display_name": "Python 3",
   "language": "python",
   "name": "python3"
  },
  "language_info": {
   "codemirror_mode": {
    "name": "ipython",
    "version": 3
   },
   "file_extension": ".py",
   "mimetype": "text/x-python",
   "name": "python",
   "nbconvert_exporter": "python",
   "pygments_lexer": "ipython3",
   "version": "3.7.4"
  }
 },
 "nbformat": 4,
 "nbformat_minor": 2
}
