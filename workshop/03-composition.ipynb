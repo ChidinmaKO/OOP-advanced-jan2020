{
 "cells": [
  {
   "cell_type": "markdown",
   "metadata": {},
   "source": [
    "## Composition"
   ]
  },
  {
   "cell_type": "markdown",
   "metadata": {},
   "source": [
    "### Table of Contents\n",
    "- [Objectives](#Objectives)\n",
    "- [Composition](#What-is-Composition?)\n",
    "- [Advantages and Disadvantages of Inheritance](#Advantages-and-Disadvantages-of-Inheritance)\n",
    "- [Advantages and Disadvantages of Composition](#Advantages-and-Disadvantages-of-Composition)\n",
    "- [Code Example](#Code-Example)\n",
    "- [When to use Inheritance](#When-to-use-Inheritance)\n",
    "- [Takeaways](#Takeaways)"
   ]
  },
  {
   "cell_type": "markdown",
   "metadata": {},
   "source": [
    "### Objectives\n",
    "* Knowledge of composition.\n",
    "* Advantages of composition over inheritance."
   ]
  },
  {
   "cell_type": "markdown",
   "metadata": {},
   "source": [
    "### What is Composition?\n",
    "\n",
    "Composition is another Object Oriented programming approach. We use it when we want to use some aspect of another class without promising all of the features of that other class."
   ]
  },
  {
   "cell_type": "markdown",
   "metadata": {},
   "source": [
    "**Inheritance models a is-a relationship**. This means that when you have a Derived class that inherits from a Base class, you created a relationship where Derived is a specialized version of Base.\n",
    "\n",
    "**Composition models a has-a relationship**. It enables creating complex types by combining objects of other types. This means that a class Composite can contain an object of another class Component. This relationship means that a Composite has a Component."
   ]
  },
  {
   "cell_type": "markdown",
   "metadata": {},
   "source": [
    "### Object Oriented Design Principle: **Favour Composition Over Inheritance**"
   ]
  },
  {
   "cell_type": "code",
   "execution_count": null,
   "metadata": {},
   "outputs": [],
   "source": [
    "# simple example showing inheritance vs composition\n",
    "\n",
    "# Inheritance (white box reuse)\n",
    "class Vehicle:\n",
    "    pass\n",
    "\n",
    "class Bus(Vehicle):\n",
    "    pass\n",
    "\n",
    "\n",
    "# Composition (black box reuse)\n",
    "class Engine:\n",
    "    pass\n",
    "\n",
    "class Bus:\n",
    "    def __init__(self):\n",
    "        self.engine = Engine()"
   ]
  },
  {
   "cell_type": "markdown",
   "metadata": {},
   "source": [
    "### Advantages and Disadvantages of Inheritance\n",
    "\n",
    "**Advantages**\n",
    "- It's well known.\n",
    "- Easy way to reuse code.\n",
    "- After inheriting, it's possible to add/change/modify the behaviour(s) of the inherited methods.\n",
    "\n",
    "**Disadvantages**\n",
    "- Inheritance supports weak encapsulation.\n",
    "- The derived class inherits everything including unneeded or unwanted stuff.\n",
    "- Changes in the base class will cause an impact on all the derived classes.\n",
    "- In inheritance, OOP can get unneccessarily complicated and full of ambiguity, confusion, and hierarchies."
   ]
  },
  {
   "cell_type": "markdown",
   "metadata": {},
   "source": [
    "### Advantages and Disadvantages of Composition \n",
    "\n",
    "**Advantages**\n",
    "- Supports great encapsulation.\n",
    "- Changes in one class has limited effect on the other classes.\n",
    "- In composition, one class(the composite class) can have relationships with many other classes(the component classes).\n",
    "\n",
    "**Disadvantages**\n",
    "- Actually requires more code than Inheritance.\n",
    "- Can be a bit more difficult to understand or read compared to inheritance."
   ]
  },
  {
   "cell_type": "markdown",
   "metadata": {},
   "source": [
    "### Code Example"
   ]
  },
  {
   "cell_type": "code",
   "execution_count": null,
   "metadata": {},
   "outputs": [],
   "source": [
    "class Song:\n",
    "\n",
    "    def __init__(self, title, artist, album, track_number):\n",
    "        self.title = title\n",
    "        self.artist = artist\n",
    "        self.album = album\n",
    "        self.track_number = track_number\n",
    "        \n",
    "        artist.add_song(self)\n",
    "\n",
    "\n",
    "class Album:\n",
    "\n",
    "    def __init__(self, title, artist, year):\n",
    "        self.title = title\n",
    "        self.artist = artist\n",
    "        self.year = year\n",
    "\n",
    "        self.tracks = []\n",
    "\n",
    "        artist.add_album(self)\n",
    "\n",
    "    def add_track(self, title, artist=None):\n",
    "        if artist is None:\n",
    "            artist = self.artist\n",
    "\n",
    "        track_number = len(self.tracks)\n",
    "\n",
    "        song = Song(title, artist, self, track_number)\n",
    "\n",
    "        self.tracks.append(song)\n",
    "\n",
    "\n",
    "class Artist:\n",
    "    def __init__(self, name):\n",
    "        self.name = name\n",
    "\n",
    "        self.albums = []\n",
    "        self.songs = []\n",
    "\n",
    "    def add_album(self, album):\n",
    "        self.albums.append(album)\n",
    "\n",
    "    def add_song(self, song):\n",
    "        self.songs.append(song)\n",
    "\n",
    "\n",
    "class Playlist:\n",
    "    def __init__(self, name):\n",
    "        self.name = name\n",
    "        self.songs = []\n",
    "\n",
    "    def add_song(self, song):\n",
    "        self.songs.append(song)\n",
    "        \n",
    "    def view_songs(self):\n",
    "        print(self.songs)\n",
    "        \n",
    "\n",
    "band = Artist(\"Bob's Awesome Band\")\n",
    "album = Album(\"Bob's First Single\", band, 2013)\n",
    "album.add_track(\"A Ballad about Cheese\")\n",
    "album.add_track(\"A Ballad about Cheese (dance remix)\")\n",
    "album.add_track(\"A Third Song to Use Up the Rest of the Space\")\n",
    "\n",
    "playlist = Playlist(\"My Favourite Songs\")\n",
    "\n",
    "for song in album.tracks:\n",
    "    print(song.album.year)\n",
    "    playlist.add_song(song)\n",
    "    \n",
    "print('\\n')  \n",
    "\n",
    "for i in playlist.songs:\n",
    "    print(i.title)"
   ]
  },
  {
   "cell_type": "markdown",
   "metadata": {},
   "source": [
    "### When to use Inheritance \n",
    "- When the base class and the derived class(es) are under the control of the same programmers.\n",
    "- When the classes are well documented.\n",
    "- When there's clearly a \"is-a\" relationship.\n",
    "- When a new class REALLY defines a subtype of an existing class.\n",
    "- When extending classes specifically designed and documented for extension."
   ]
  },
  {
   "cell_type": "markdown",
   "metadata": {},
   "source": [
    "#### => Classwork"
   ]
  },
  {
   "cell_type": "markdown",
   "metadata": {},
   "source": [
    "Using Composition, design a Developer class."
   ]
  },
  {
   "cell_type": "markdown",
   "metadata": {},
   "source": [
    "### Takeaways"
   ]
  }
 ],
 "metadata": {
  "kernelspec": {
   "display_name": "Python 3",
   "language": "python",
   "name": "python3"
  },
  "language_info": {
   "codemirror_mode": {
    "name": "ipython",
    "version": 3
   },
   "file_extension": ".py",
   "mimetype": "text/x-python",
   "name": "python",
   "nbconvert_exporter": "python",
   "pygments_lexer": "ipython3",
   "version": "3.7.4"
  }
 },
 "nbformat": 4,
 "nbformat_minor": 2
}
