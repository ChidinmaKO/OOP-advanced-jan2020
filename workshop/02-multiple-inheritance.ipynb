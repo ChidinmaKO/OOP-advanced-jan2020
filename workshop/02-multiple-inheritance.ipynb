{
 "cells": [
  {
   "cell_type": "markdown",
   "metadata": {},
   "source": [
    "## Multiple Inheritance"
   ]
  },
  {
   "cell_type": "markdown",
   "metadata": {},
   "source": [
    "### What is Multiple Inheritance?\n",
    "\n",
    "Multiple inheritance is a feature of OOP in Python in which a class can inherit attributes and methods from more than one parent class.\n",
    "\n",
    "Unlike Java, Python has a well designed approach to handling multiple inheritance."
   ]
  },
  {
   "cell_type": "markdown",
   "metadata": {},
   "source": [
    "### Objectives\n",
    "* Knowledge of Multiple Inheritance.\n",
    "* Knowledge of Method Resolution Order (MRO)\n",
    "* Know the drawbacks of Multiple Inheritance (The Diamond Problem aka The Deadly Diamond of Death)"
   ]
  },
  {
   "cell_type": "markdown",
   "metadata": {},
   "source": [
    "![multiple-inheritance image](../images/multiple_inheritance.png \"multiple-inheritance\")\n",
    "<small>Photo credit: https://www.python-course.eu/</small>"
   ]
  },
  {
   "cell_type": "markdown",
   "metadata": {},
   "source": [
    "#### Syntax\n",
    "```\n",
    "Class Base1: \n",
    "    Body of the class\n",
    "\n",
    "Class Base2:\n",
    "    Body of the class\n",
    "\n",
    "Class Derived(Base1, Base2):\n",
    "     Body of the class\n",
    "```"
   ]
  },
  {
   "cell_type": "code",
   "execution_count": null,
   "metadata": {},
   "outputs": [],
   "source": [
    "class Acquatic:\n",
    "    def __init__(self, name):\n",
    "        self.name = name\n",
    "        \n",
    "    def __repr__(self):\n",
    "        return f\"{__class__.__name__}({self.name})\"\n",
    "    \n",
    "    def __str__(self):\n",
    "        return f\"I am {self.name} and I live in the sea.\"\n",
    "        \n",
    "    def swim(self):\n",
    "        return f\"{self.name.title()} can swim.\"\n",
    "    \n",
    "fish = Acquatic(\"whale\")\n",
    "fish.swim()"
   ]
  },
  {
   "cell_type": "code",
   "execution_count": null,
   "metadata": {},
   "outputs": [],
   "source": [
    "class Terrestrial:\n",
    "    def __init__(self, name):\n",
    "        self.name = name\n",
    "        \n",
    "    def __repr__(self):\n",
    "        return f\"{__class__.__name__}({self.name})\"\n",
    "    \n",
    "    def __str__(self):\n",
    "        return f\"I am {self.name} and I live on the land\"\n",
    "        \n",
    "    def walk(self):\n",
    "        return f\"{self.name.title()} can walk.\"\n",
    "    \n",
    "\n",
    "hippo = Terrestrial(\"Hippopotamus\")\n",
    "hippo.walk()"
   ]
  },
  {
   "cell_type": "code",
   "execution_count": null,
   "metadata": {},
   "outputs": [],
   "source": [
    "class Amphibian(Acquatic, Terrestrial): # extends both Acquatic and Terrestrial class \n",
    "    pass\n",
    "        \n",
    "penguin = Amphibian('Penguin')\n",
    "print(f\"{penguin.swim()} and {penguin.walk()}.\")"
   ]
  },
  {
   "cell_type": "markdown",
   "metadata": {},
   "source": [
    "### The Diamond Problem"
   ]
  },
  {
   "cell_type": "markdown",
   "metadata": {},
   "source": [
    "The **diamond problem** aka the **deadly diamond of death** is the term used to describe the ambiguity that arises when two classes B and C inherit from a superclass A, and another class D inherits from both B and C. If there is a method \"y\" in A that B or C (or even both of them) has overridden, and D however, does not override this method, then the question is which version of the method does D inherit? It could be the one from A, B or C."
   ]
  },
  {
   "cell_type": "markdown",
   "metadata": {},
   "source": [
    "<img alt=\"diamond problem image\" title=\"diamond problem\" src=\"../images/diamond_inheritance.png\" width=\"200\" height=\"200\" align=\"center\"/>"
   ]
  },
  {
   "cell_type": "code",
   "execution_count": null,
   "metadata": {},
   "outputs": [],
   "source": [
    "# Example to depict the diamond problem\n",
    "\n",
    "class A:  \n",
    "    def y(self):\n",
    "        print(\"y of A called\")\n",
    "\n",
    "class B(A):  \n",
    "    def y(self):\n",
    "        print(\"y of B called\")\n",
    "\n",
    "class C(A):  \n",
    "    def y(self):\n",
    "        print(\"y of C called\")\n",
    "\n",
    "class D(B, C):\n",
    "    pass\n",
    "\n",
    "\n",
    "d = D()\n",
    "d.y()"
   ]
  },
  {
   "cell_type": "markdown",
   "metadata": {},
   "source": [
    "__Note that__ - If the order of the classes is transposed in the class header of D in \"class D(C,B):\", we will get the output \"*y of C called*\"."
   ]
  },
  {
   "cell_type": "markdown",
   "metadata": {},
   "source": [
    "### Method Resolution Order (MRO)"
   ]
  },
  {
   "cell_type": "markdown",
   "metadata": {},
   "source": [
    "The method resolution order (or MRO) is simply how Python searches for inherited methods. This comes in handy when you’re using super() because the MRO tells you exactly where Python will look for a method you’re calling with super() and in what order. "
   ]
  },
  {
   "cell_type": "markdown",
   "metadata": {},
   "source": [
    "Python uses the [C3 linearization algorithm](https://en.wikipedia.org/wiki/C3_linearization) to determine the order in which to resolve class attributes, including methods. This is known as the **Method Resolution Order (MRO)**."
   ]
  },
  {
   "cell_type": "markdown",
   "metadata": {},
   "source": [
    "It can be simply stated that Python's MRO algorithm is\n",
    "1. Depth first until...\n",
    "2. classes are encountered which share a parent, then breadth-first over those.\n",
    "3. no circular relationships allowed."
   ]
  },
  {
   "cell_type": "code",
   "execution_count": null,
   "metadata": {},
   "outputs": [],
   "source": [
    "# Example 1\n",
    "class A:  \n",
    "    pass\n",
    "  \n",
    "class B:  \n",
    "    pass\n",
    "  \n",
    "class C(A, B):  \n",
    "    pass \n",
    "  \n",
    "class D:  \n",
    "    pass\n",
    "    \n",
    "class E(D):  \n",
    "    pass\n",
    "\n",
    "class F():  \n",
    "    pass\n",
    "\n",
    "class G(C,E,F):\n",
    "    pass\n",
    "\n",
    "# for x in G.__mro__:\n",
    "#     print(x)"
   ]
  },
  {
   "cell_type": "code",
   "execution_count": null,
   "metadata": {},
   "outputs": [],
   "source": [
    "# Example 2\n",
    "class A: \n",
    "    pass\n",
    "\n",
    "class B: \n",
    "    pass\n",
    "\n",
    "class C(A, B): \n",
    "    pass\n",
    "\n",
    "class D: \n",
    "    pass\n",
    "\n",
    "class E: \n",
    "    pass\n",
    "\n",
    "class K1(C, E): \n",
    "    pass\n",
    "\n",
    "class K2(D, B, E): \n",
    "    pass\n",
    "\n",
    "class K3(D, A): \n",
    "    pass\n",
    "\n",
    "class Z(K1, K2, K3): \n",
    "    pass\n",
    "\n",
    "# for i in Z.mro():\n",
    "#     print(i)"
   ]
  },
  {
   "cell_type": "markdown",
   "metadata": {},
   "source": [
    "#### Super & MRO"
   ]
  },
  {
   "cell_type": "markdown",
   "metadata": {},
   "source": [
    "Super() is used to avoid running into the diamond problem."
   ]
  },
  {
   "cell_type": "code",
   "execution_count": null,
   "metadata": {},
   "outputs": [],
   "source": [
    "class A:\n",
    "    def m(self):\n",
    "        print(\"m of A called\")\n",
    "\n",
    "class B(A):\n",
    "    def m(self):\n",
    "        print(\"m of B called\")\n",
    "        super().m()\n",
    "    \n",
    "class C(A):\n",
    "    def m(self):\n",
    "        print(\"m of C called\")\n",
    "        super().m()\n",
    "\n",
    "class D(B,C):\n",
    "    def m(self):\n",
    "        print(\"m of D called\")\n",
    "        super().m()"
   ]
  },
  {
   "cell_type": "code",
   "execution_count": null,
   "metadata": {},
   "outputs": [],
   "source": [
    "class Rectangle:\n",
    "    def __init__(self, length, width, **kwargs):\n",
    "        self.length = length\n",
    "        self.width = width\n",
    "        super().__init__(**kwargs)\n",
    "\n",
    "    def area(self):\n",
    "        return self.length * self.width\n",
    "\n",
    "    def perimeter(self):\n",
    "        return 2 * self.length + 2 * self.width\n",
    "\n",
    "\n",
    "# Here we declare that the Square class inherits from the Rectangle class\n",
    "class Square(Rectangle):\n",
    "    def __init__(self, length, **kwargs):\n",
    "        super().__init__(length=length, width=length, **kwargs)\n",
    "\n",
    "\n",
    "class Cube(Square):\n",
    "    def surface_area(self):\n",
    "        face_area = super().area()\n",
    "        return face_area * 6\n",
    "\n",
    "    def volume(self):\n",
    "        face_area = super().area()\n",
    "        return face_area * self.length\n",
    "\n",
    "\n",
    "class Triangle:\n",
    "    def __init__(self, base, height, **kwargs):\n",
    "        self.base = base\n",
    "        self.height = height\n",
    "        super().__init__(**kwargs)\n",
    "\n",
    "    def tri_area(self):\n",
    "        return 0.5 * self.base * self.height\n",
    "\n",
    "\n",
    "class RightPyramid(Square, Triangle):\n",
    "    def __init__(self, base, slant_height, **kwargs):\n",
    "        self.base = base\n",
    "        self.slant_height = slant_height\n",
    "        kwargs[\"height\"] = slant_height\n",
    "        kwargs[\"length\"] = base\n",
    "        super().__init__(base=base, **kwargs)\n",
    "\n",
    "    def area(self):\n",
    "        base_area = super().area()\n",
    "        perimeter = super().perimeter()\n",
    "        return 0.5 * perimeter * self.slant_height + base_area\n",
    "\n",
    "    def area_2(self):\n",
    "        base_area = super().area()\n",
    "        triangle_area = super().tri_area()\n",
    "        return triangle_area * 4 + base_area"
   ]
  },
  {
   "cell_type": "code",
   "execution_count": null,
   "metadata": {},
   "outputs": [],
   "source": [
    "pyramid = RightPyramid(base=2, slant_height=4)\n",
    "pyramid.area()\n",
    "pyramid.area_2()"
   ]
  },
  {
   "cell_type": "code",
   "execution_count": null,
   "metadata": {},
   "outputs": [],
   "source": [
    "cube = Cube(3)\n",
    "Cube.__mro__ #returns a tuple\n",
    "# Cube.mro() #returns a list"
   ]
  },
  {
   "cell_type": "code",
   "execution_count": null,
   "metadata": {},
   "outputs": [],
   "source": [
    "RightPyramid.__mro__"
   ]
  },
  {
   "cell_type": "markdown",
   "metadata": {},
   "source": [
    "## Multilevel Inheritance"
   ]
  },
  {
   "cell_type": "markdown",
   "metadata": {},
   "source": [
    "### What is Multilevel Inheritance?\n",
    "\n",
    "Multilevel Inheritance is another feature of OOP in which a class can inherit attributes and methods from more than another derived class. It can be of any depth in Python.\n",
    "\n",
    "Multilevel Inheritance requires at least three levels of classes, i.e., a base class, an intermediate class, and the subclass."
   ]
  },
  {
   "cell_type": "markdown",
   "metadata": {},
   "source": [
    "#### Syntax\n",
    "```\n",
    "class Base:\n",
    "    Body of the class\n",
    "class Derived1(Base):\n",
    "    Body of the class\n",
    "class Derived2(Derived1):\n",
    "    Body of the class\n",
    "```"
   ]
  },
  {
   "cell_type": "markdown",
   "metadata": {},
   "source": [
    "![multiple vs multiplevel inheritance image](../images/multiple-and-multilevel-inheritance.jpg \"multiple vs multiplevel inheritance\")"
   ]
  },
  {
   "cell_type": "code",
   "execution_count": null,
   "metadata": {},
   "outputs": [],
   "source": [
    "# Example of multi level inheritance\n",
    "class GrandMother:\n",
    "    def __init__(self, name):\n",
    "        self.name = name\n",
    "    \n",
    "    def __repr__(self):\n",
    "        return f\"{self.__class__.__name__}({self.name})\"\n",
    "    \n",
    "    def greet(self):\n",
    "        return f\"Hoi! My name is {self.name}\"\n",
    "        \n",
    "class Mother(GrandMother):\n",
    "    def __init__(self, name):\n",
    "        super().__init__(name)\n",
    "        \n",
    "class Daughter(Mother):\n",
    "    def __init__(self, name):\n",
    "        super().__init__(name)\n",
    "\n",
    "        \n",
    "\n",
    "child1 = Daughter(\"Fatima\")\n",
    "child1"
   ]
  },
  {
   "cell_type": "markdown",
   "metadata": {},
   "source": [
    "#### => Classwork"
   ]
  },
  {
   "cell_type": "markdown",
   "metadata": {},
   "source": [
    "#### * Understanding MRO\n",
    "\n",
    "Implement the following class structure: \n",
    "\n",
    "`print(Child.__mro__):`\n",
    "\n",
    "`\n",
    "(<class '__main__.Child'>,\n",
    " <class '__main__.Father'>,\n",
    " <class '__main__.Mother'>,\n",
    " <class '__main__.Person'>,\n",
    " <class 'object'>)\n",
    "`\n",
    "\n",
    "**Expected output:**\n",
    "```\n",
    "I am a person\n",
    "I am a person and cool daddy\n",
    "I am a person and awesome mom\n",
    "I am the coolest kid\n",
    "```"
   ]
  },
  {
   "cell_type": "markdown",
   "metadata": {},
   "source": [
    "### Takeaways"
   ]
  },
  {
   "cell_type": "markdown",
   "metadata": {},
   "source": []
  }
 ],
 "metadata": {
  "kernelspec": {
   "display_name": "Python 3",
   "language": "python",
   "name": "python3"
  },
  "language_info": {
   "codemirror_mode": {
    "name": "ipython",
    "version": 3
   },
   "file_extension": ".py",
   "mimetype": "text/x-python",
   "name": "python",
   "nbconvert_exporter": "python",
   "pygments_lexer": "ipython3",
   "version": "3.7.4"
  }
 },
 "nbformat": 4,
 "nbformat_minor": 2
}
